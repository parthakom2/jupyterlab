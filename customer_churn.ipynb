{
 "cells": [
  {
   "cell_type": "markdown",
   "metadata": {
    "id": "e1ebe3e9-a075-4ee1-84c8-5388da3bb51f"
   },
   "source": [
    "# Customer Churn Analysis"
   ]
  },
  {
   "cell_type": "markdown",
   "metadata": {
    "id": "ea6314f9-79aa-4674-882f-ab7a063dfece"
   },
   "source": [
    "This notebook is using customer churn data from Kaggle (https://www.kaggle.com/sandipdatta/customer-churn-analysis) and has been adopted from the notebook available on Kaggle developed by SanD."
   ]
  },
  {
   "cell_type": "markdown",
   "metadata": {
    "id": "8fe8d80e-bef4-43e9-9470-ab270651de42"
   },
   "source": [
    "The notebook will go through the following steps:\n",
    "    1. Import Dataset\n",
    "    2. Analyze the Data\n",
    "    3. Prepare the data model building\n",
    "    4. Split data in test and train data\n",
    "    5. Train model using various machine learning algorithms for binary classification\n",
    "    6. Evaluate the models\n",
    "    7. Select the model best fit for the given data set\n",
    "    8. Save and deploy model to Watson Machine Learning"
   ]
  },
  {
   "cell_type": "code",
   "execution_count": null,
   "metadata": {
    "id": "90236eac-5f06-4705-8697-aba969ed73fa"
   },
   "outputs": [],
   "source": [
    "from sklearn import model_selection\n",
    "from sklearn import tree\n",
    "from sklearn import svm\n",
    "from sklearn import ensemble\n",
    "from sklearn import neighbors\n",
    "from sklearn import linear_model\n",
    "from sklearn import metrics\n",
    "from sklearn import preprocessing"
   ]
  },
  {
   "cell_type": "code",
   "execution_count": null,
   "metadata": {
    "id": "870295f3-712d-4e30-a6a2-86b2e2543579"
   },
   "outputs": [],
   "source": [
    "%matplotlib inline \n",
    "\n",
    "from IPython.display import Image\n",
    "import matplotlib as mlp\n",
    "import matplotlib.pyplot as plt\n",
    "import numpy as np\n",
    "import os\n",
    "import pandas as pd\n",
    "import sklearn\n",
    "import seaborn as sns\n",
    "import json"
   ]
  },
  {
   "cell_type": "markdown",
   "metadata": {
    "id": "80b339dc-007b-4e48-8fdd-500b072442b9"
   },
   "source": [
    "## Dataset"
   ]
  },
  {
   "cell_type": "markdown",
   "metadata": {
    "id": "afc95d0a-27da-4b76-bd8e-f29cb3f19d9f"
   },
   "source": [
    "The original dataset can be downloaded from https://www.kaggle.com/becksddf/churn-in-telecoms-dataset/data. Then upload it to IBM Watson Studio and insert the code to read the data using \"insert to code > Insert panndas DataFrame\"."
   ]
  },
  {
   "cell_type": "code",
   "execution_count": null,
   "metadata": {
    "id": "d9f70eac-2cfb-4cba-980a-2a33583e7f16"
   },
   "outputs": [],
   "source": [
    "# @hidden_cell\n",
    "\n",
    "# make sure you assign the dataframe to the variable \"df\"\n",
    "df = df_data_X\n",
    "print (df.shape)"
   ]
  },
  {
   "cell_type": "markdown",
   "metadata": {
    "id": "b824e528-4143-4b0d-89e5-9fd74bdf3513"
   },
   "source": [
    "Examine the first 5 lines of the input"
   ]
  },
  {
   "cell_type": "code",
   "execution_count": null,
   "metadata": {
    "id": "9eeaacd2-0398-443d-a0d3-97c7b2da5361"
   },
   "outputs": [],
   "source": [
    "df.head()"
   ]
  },
  {
   "cell_type": "code",
   "execution_count": null,
   "metadata": {
    "id": "e5e8ff8f-1313-4ad9-88be-9101b6b87f93"
   },
   "outputs": [],
   "source": [
    "y = df[\"churn\"].value_counts()\n",
    "sns.barplot(y.index, y.values)"
   ]
  },
  {
   "cell_type": "code",
   "execution_count": null,
   "metadata": {
    "id": "65cc0746-ca5c-48ec-92c3-95ce584f12ca"
   },
   "outputs": [],
   "source": [
    "y_True = df[\"churn\"][df[\"churn\"] == True]\n",
    "print (\"Churn Percentage = \"+str( (y_True.shape[0] / df[\"churn\"].shape[0]) * 100 ))"
   ]
  },
  {
   "cell_type": "markdown",
   "metadata": {
    "id": "549018b9-465a-4a0e-864d-1659bc4aadc9"
   },
   "source": [
    "## Descriptive Analysis of the Data"
   ]
  },
  {
   "cell_type": "code",
   "execution_count": null,
   "metadata": {
    "id": "f2228651-559f-4c69-a0e4-ee6e100f3c8f"
   },
   "outputs": [],
   "source": [
    "  df.describe()"
   ]
  },
  {
   "cell_type": "markdown",
   "metadata": {
    "id": "4436943f-3a4e-49b0-8bc0-081b02b96204"
   },
   "source": [
    "### Churn by State "
   ]
  },
  {
   "cell_type": "code",
   "execution_count": null,
   "metadata": {
    "id": "832e3d77-3ea9-4c88-93bf-642375f378d6"
   },
   "outputs": [],
   "source": [
    "df.groupby([\"state\", \"churn\"]).size().unstack().plot(kind='bar', stacked=True, figsize=(30,10)) "
   ]
  },
  {
   "cell_type": "markdown",
   "metadata": {
    "id": "42b4dd81-38a7-4449-ba51-7781a1aed554"
   },
   "source": [
    "### Churn by Area Code "
   ]
  },
  {
   "cell_type": "code",
   "execution_count": null,
   "metadata": {
    "id": "257812d5-3391-49a5-9863-3530a76b30e6"
   },
   "outputs": [],
   "source": [
    "df.groupby([\"area code\", \"churn\"]).size().unstack().plot(kind='bar', stacked=True, figsize=(5,5)) "
   ]
  },
  {
   "cell_type": "markdown",
   "metadata": {
    "id": "3b9bea21-c550-4548-87f5-c35c2842b4d2"
   },
   "source": [
    "###  Churn by customers with International Plan "
   ]
  },
  {
   "cell_type": "code",
   "execution_count": null,
   "metadata": {
    "id": "517403af-34a7-421e-b372-47feaf9f06f5"
   },
   "outputs": [],
   "source": [
    "df.groupby([\"international plan\", \"churn\"]).size().unstack().plot(kind='bar', stacked=True, figsize=(5,5)) "
   ]
  },
  {
   "cell_type": "markdown",
   "metadata": {
    "id": "b202d83c-ed1b-4f2f-be4e-53110c13a4d4"
   },
   "source": [
    "### Churn By Customers with Voice mail plan"
   ]
  },
  {
   "cell_type": "code",
   "execution_count": null,
   "metadata": {
    "id": "3653bc2b-a0eb-44e6-96ac-b5f38fbc730b"
   },
   "outputs": [],
   "source": [
    "df.groupby([\"voice mail plan\", \"churn\"]).size().unstack().plot(kind='bar', stacked=True, figsize=(5,5)) "
   ]
  },
  {
   "cell_type": "markdown",
   "metadata": {
    "id": "38198ece-e33d-4afd-8b6e-fc0a709e5702"
   },
   "source": [
    "## Data Preparation"
   ]
  },
  {
   "cell_type": "markdown",
   "metadata": {
    "id": "b3fef05f-110c-4b17-9c1b-9c7594abb918"
   },
   "source": [
    "The following preprocessing steps need to be done:\n",
    "1. Turn categorical variables into discrete numerical variables\n",
    "2. Create response vector\n",
    "3. Drop superflous columns\n",
    "4. Build feature matrix\n",
    "5. Standardize feature matrix values"
   ]
  },
  {
   "cell_type": "markdown",
   "metadata": {
    "id": "847a5b25-7f94-4ede-b807-8f2bdf7d91af"
   },
   "source": [
    "### Encode categorical columns"
   ]
  },
  {
   "cell_type": "code",
   "execution_count": null,
   "metadata": {
    "id": "62b159df-1209-4ee9-bac5-ee8582815a49"
   },
   "outputs": [],
   "source": [
    "# Discreet value integer encoder\n",
    "label_encoder = preprocessing.LabelEncoder()\n",
    "\n",
    "# State, international plans and voice mail plan are strings and we want discreet integer values\n",
    "df['state'] = label_encoder.fit_transform(df['state'])\n",
    "df['international plan'] = label_encoder.fit_transform(df['international plan'])\n",
    "df['voice mail plan'] = label_encoder.fit_transform(df['voice mail plan'])\n",
    "\n",
    "print (df.dtypes)"
   ]
  },
  {
   "cell_type": "code",
   "execution_count": null,
   "metadata": {
    "id": "96ede2ee-3229-48cf-b33d-f9e7aa04e4cd",
    "scrolled": true
   },
   "outputs": [],
   "source": [
    "print (df.shape)\n",
    "df.head()"
   ]
  },
  {
   "cell_type": "markdown",
   "metadata": {
    "id": "d4cf6675-e4ab-4ef8-8198-c633d36cf1b5"
   },
   "source": [
    "### Create response vector"
   ]
  },
  {
   "cell_type": "code",
   "execution_count": null,
   "metadata": {
    "id": "f8189feb-301c-4a3f-b918-464cc8f11ae0"
   },
   "outputs": [],
   "source": [
    "y = df['churn'].values.astype(np.int)\n",
    "y.size"
   ]
  },
  {
   "cell_type": "markdown",
   "metadata": {
    "id": "dbf80465-5ad8-4578-b6d5-eb20be39d1ac"
   },
   "source": [
    "### Drop superflous columns"
   ]
  },
  {
   "cell_type": "code",
   "execution_count": null,
   "metadata": {
    "id": "698b0978-7bb1-4d16-bab1-c1c3640e81c5"
   },
   "outputs": [],
   "source": [
    "# df = df.drop([\"Id\",\"Churn\"], axis = 1, inplace=True)\n",
    "df.drop([\"phone number\",\"churn\"], axis = 1, inplace=True)\n",
    "df.head()"
   ]
  },
  {
   "cell_type": "markdown",
   "metadata": {
    "id": "68b68f71-0aee-4d4c-8b8f-0db8cd68745e"
   },
   "source": [
    "### Build feature matrix"
   ]
  },
  {
   "cell_type": "code",
   "execution_count": null,
   "metadata": {
    "id": "1ea2f557-8d40-41e3-a4bb-6336afa69323"
   },
   "outputs": [],
   "source": [
    "X = df.values.astype(np.float)\n",
    "print(X)\n",
    "X.shape"
   ]
  },
  {
   "cell_type": "markdown",
   "metadata": {
    "id": "28d5f41a-c60f-4b6b-b152-75c6142e6637"
   },
   "source": [
    "### Standardize Feature Matrix values"
   ]
  },
  {
   "cell_type": "code",
   "execution_count": null,
   "metadata": {
    "id": "1df00e73-b46f-411c-9d88-e1b753756f31"
   },
   "outputs": [],
   "source": [
    "scaler = preprocessing.StandardScaler()\n",
    "X = scaler.fit_transform(X)\n",
    "X"
   ]
  },
  {
   "cell_type": "markdown",
   "metadata": {
    "id": "d124d4ce-f86d-4958-b841-2dfe9190841e"
   },
   "source": [
    "This completes the data preparation steps."
   ]
  },
  {
   "cell_type": "markdown",
   "metadata": {
    "id": "e2d4b56c-8642-4d41-bec3-fe130e7c28d2"
   },
   "source": [
    "## Split Train/Test Validation Data"
   ]
  },
  {
   "cell_type": "markdown",
   "metadata": {
    "id": "d5e471ec-7d65-430d-a788-557e15aedfee"
   },
   "source": [
    "We need to adopt Stratified Cross Validation - Since the Response values are not balanced"
   ]
  },
  {
   "cell_type": "code",
   "execution_count": null,
   "metadata": {
    "id": "c3bdec79-fa0a-45d6-b59d-ea1b57aef97a"
   },
   "outputs": [],
   "source": [
    "def stratified_cv(X, y, clf_class, shuffle=True, n_folds=10):\n",
    "    stratified_k_fold = model_selection.StratifiedKFold(n_splits=n_folds, shuffle=shuffle)\n",
    "    y_pred = y.copy()\n",
    "    # ii -> train\n",
    "    # jj -> test indices\n",
    "    for ii, jj in stratified_k_fold.split(X, y): \n",
    "        X_train, X_test = X[ii], X[jj]\n",
    "        y_train = y[ii]\n",
    "        clf = clf_class\n",
    "        clf.fit(X_train,y_train)\n",
    "        y_pred[jj] = clf.predict(X_test)\n",
    "    return y_pred"
   ]
  },
  {
   "cell_type": "markdown",
   "metadata": {
    "id": "0e68fe4b-9c12-463e-ad83-69d5cf9be2f7"
   },
   "source": [
    "## Build Models and Train"
   ]
  },
  {
   "cell_type": "markdown",
   "metadata": {
    "id": "ed2286ef-28ec-4bb1-9fa5-6e7c89579dbd"
   },
   "source": [
    "We will build models using a variety of approaches to see how they compare:"
   ]
  },
  {
   "cell_type": "code",
   "execution_count": null,
   "metadata": {
    "id": "c1a33c59-8de0-4cbb-9414-036b08a6fdda"
   },
   "outputs": [],
   "source": [
    "# create classifiers\n",
    "from sklearn.ensemble import GradientBoostingClassifier\n",
    "gradient_boost = GradientBoostingClassifier()\n",
    "\n",
    "from sklearn.svm import SVC\n",
    "svc_model = SVC(gamma='auto')\n",
    "\n",
    "from sklearn.ensemble import RandomForestClassifier\n",
    "random_forest = RandomForestClassifier(n_estimators=10)\n",
    "\n",
    "from sklearn.neighbors import KNeighborsClassifier\n",
    "k_neighbors = KNeighborsClassifier()\n",
    "\n",
    "from sklearn.linear_model import LogisticRegression\n",
    "logistic_regression = LogisticRegression(solver='lbfgs')"
   ]
  },
  {
   "cell_type": "code",
   "execution_count": null,
   "metadata": {
    "id": "4d7dad76-2817-4388-926b-657813cf2378"
   },
   "outputs": [],
   "source": [
    "print('Gradient Boosting Classifier:  {:.2f}'.format(metrics.accuracy_score(y, stratified_cv(X, y, gradient_boost))))\n",
    "print('Support vector machine(SVM):   {:.2f}'.format(metrics.accuracy_score(y, stratified_cv(X, y, svc_model))))\n",
    "print('Random Forest Classifier:      {:.2f}'.format(metrics.accuracy_score(y, stratified_cv(X, y, random_forest))))\n",
    "print('K Nearest Neighbor Classifier: {:.2f}'.format(metrics.accuracy_score(y, stratified_cv(X, y, k_neighbors))))\n",
    "print('Logistic Regression:           {:.2f}'.format(metrics.accuracy_score(y, stratified_cv(X, y, logistic_regression))))"
   ]
  },
  {
   "cell_type": "markdown",
   "metadata": {
    "id": "edb85777-3606-4e37-9cbc-264506cad60f"
   },
   "source": [
    "## Model Evaluation"
   ]
  },
  {
   "cell_type": "markdown",
   "metadata": {
    "id": "686b4320-90f9-425e-9970-69ae9b4bdea5"
   },
   "source": [
    "We will now generate confusion matrices for the various models to analyze the prediction in more detail."
   ]
  },
  {
   "cell_type": "markdown",
   "metadata": {
    "id": "ba482163-c94d-411b-8c17-168ed20cc410"
   },
   "source": [
    "### Gradient Boosting Classifier"
   ]
  },
  {
   "cell_type": "code",
   "execution_count": null,
   "metadata": {
    "id": "91c212d9-c2c0-4fb0-9f36-8834a7a7e92a"
   },
   "outputs": [],
   "source": [
    "grad_ens_conf_matrix = metrics.confusion_matrix(y, stratified_cv(X, y, gradient_boost))\n",
    "sns.heatmap(grad_ens_conf_matrix, annot=True,  fmt='');\n",
    "title = 'Gradient Boosting'\n",
    "plt.title(title);"
   ]
  },
  {
   "cell_type": "markdown",
   "metadata": {
    "id": "e16f7588-79f1-4713-b481-c6c9a274a5eb"
   },
   "source": [
    "### Support Vector Machines"
   ]
  },
  {
   "cell_type": "code",
   "execution_count": null,
   "metadata": {
    "id": "3ad27ab0-df1f-4eb7-9f94-6513010b754b"
   },
   "outputs": [],
   "source": [
    "svm_svc_conf_matrix = metrics.confusion_matrix(y, stratified_cv(X, y, svc_model))\n",
    "sns.heatmap(svm_svc_conf_matrix, annot=True,  fmt='');\n",
    "title = 'SVM'\n",
    "plt.title(title);"
   ]
  },
  {
   "cell_type": "markdown",
   "metadata": {
    "id": "06f4b393-c66f-47bb-bcac-d4d4741efdc6"
   },
   "source": [
    "### Random Forest"
   ]
  },
  {
   "cell_type": "code",
   "execution_count": null,
   "metadata": {
    "id": "5fb5eb48-f754-4040-af8e-614c6826eea7"
   },
   "outputs": [],
   "source": [
    "random_forest_conf_matrix = metrics.confusion_matrix(y, stratified_cv(X, y, random_forest))\n",
    "sns.heatmap(random_forest_conf_matrix, annot=True,  fmt='');\n",
    "title = 'Random Forest'\n",
    "plt.title(title);"
   ]
  },
  {
   "cell_type": "markdown",
   "metadata": {
    "id": "e8ce63cd-36b3-45df-a953-224f4769ac08"
   },
   "source": [
    "### Classification Report"
   ]
  },
  {
   "cell_type": "code",
   "execution_count": null,
   "metadata": {
    "id": "447d7abd-425f-476e-82c5-b1a45e29e358"
   },
   "outputs": [],
   "source": [
    "print('Gradient Boosting Classifier:\\n {}\\n'.format(metrics.classification_report(y, stratified_cv(X, y, gradient_boost))))\n",
    "print('Support vector machine(SVM):\\n {}\\n'.format(metrics.classification_report(y, stratified_cv(X, y, svc_model))))\n",
    "print('Random Forest Classifier:\\n {}\\n'.format(metrics.classification_report(y, stratified_cv(X, y, random_forest))))"
   ]
  },
  {
   "cell_type": "markdown",
   "metadata": {
    "id": "5e82d4e2-3209-4428-a92a-a747d6212a15"
   },
   "source": [
    "## Final Model Selection"
   ]
  },
  {
   "cell_type": "markdown",
   "metadata": {
    "id": "74906452-238f-46c3-a1db-8feeac7faded"
   },
   "source": [
    "Gradient Boosting seems to do comparatively better for this case"
   ]
  },
  {
   "cell_type": "code",
   "execution_count": null,
   "metadata": {
    "id": "deca90c4-5eff-42d6-91b3-6cb9e798dec6"
   },
   "outputs": [],
   "source": [
    "gbc = ensemble.GradientBoostingClassifier()\n",
    "gbc.fit(X, y)"
   ]
  },
  {
   "cell_type": "code",
   "execution_count": null,
   "metadata": {
    "id": "7488a230-f8bf-40a1-bf39-ac690dabdc18",
    "scrolled": true
   },
   "outputs": [],
   "source": [
    "# Get Feature Importance from the classifier\n",
    "feature_importance = gbc.feature_importances_\n",
    "print (gbc.feature_importances_)\n",
    "feat_importances = pd.Series(gbc.feature_importances_, index=df.columns)\n",
    "feat_importances = feat_importances.nlargest(19)\n",
    "feat_importances.plot(kind='barh' , figsize=(10,10)) "
   ]
  },
  {
   "cell_type": "markdown",
   "metadata": {
    "id": "14e6320b-286b-4d1a-8459-4c416299dad6"
   },
   "source": [
    "## Save and Deploy model to Watson Machine Learning"
   ]
  },
  {
   "cell_type": "markdown",
   "metadata": {
    "id": "39d3f13b-837d-4a97-89cb-72a3b662cfdb"
   },
   "source": [
    "### Connection to WML\n",
    "\n",
    "To authenticate the Watson Machine Learning service on IBM Cloud, you will need to provide a platform `api_key` and instance `location`.\n",
    "\n",
    "You can use the [IBM Cloud CLI](https://cloud.ibm.com/docs/cli/index.html) or IBM Cloud console to create your API key.\n",
    "\n",
    "Using the IBM Cloud CLI:\n",
    "\n",
    "```bash\n",
    "ibmcloud login\n",
    "ibmcloud iam api-key-create API_KEY_NAME\n",
    "```\n",
    "\n",
    "Retrieve the value of api_key from the output.\n",
    "\n",
    "```bash\n",
    "ibmcloud login --apikey API_KEY -a https://cloud.ibm.com\n",
    "ibmcloud resource service-instance WML_INSTANCE_NAME\n",
    "```\n",
    "\n",
    "Retrieve the value of location from the output.\n",
    "\n",
    "Using the IBM Cloud console:\n",
    "\n",
    "Navigate to the [Users panel](https://cloud.ibm.com/iam#/users). Then click your name, scroll down to the **API Keys** section, and click **Create an IBM Cloud API key**. Give your key a name and click **Create**, then copy the created key and paste it below. You can retrieve your instance location in your [Watson Machine Learning (WML) Service](https://console.ng.bluemix.net/catalog/services/ibm-watson-machine-learning/) instance details.\n",
    "\n",
    "You can also get service specific apikey by going to the [Service IDs section of the Cloud Console](https://cloud.ibm.com/iam/serviceids). From that page, click **Create**, then copy the created key and paste it below.\n",
    "\n",
    "**NOTE**: You can also get a service specific url. Go to the [Endpoint URLs section of the Watson Machine Learning docs](https://cloud.ibm.com/apidocs/machine-learning) for details."
   ]
  },
  {
   "cell_type": "code",
   "execution_count": null,
   "metadata": {
    "id": "fd5142a2-eafc-462e-a39c-33adc0287651"
   },
   "outputs": [],
   "source": [
    "api_key = 'PASTE YOUR PLATFORM API KEY HERE'\n",
    "location = 'PASTE YOUR INSTANCE LOCATION HERE'"
   ]
  },
  {
   "cell_type": "code",
   "execution_count": null,
   "metadata": {
    "id": "2ae3d9ed-c94b-45c1-9813-ab0c8afd0c49"
   },
   "outputs": [],
   "source": [
    "wml_credentials = {\n",
    "    \"apikey\": api_key,\n",
    "    \"url\": 'https://' + location + '.ml.cloud.ibm.com'\n",
    "}"
   ]
  },
  {
   "cell_type": "markdown",
   "metadata": {
    "id": "6eebb077-8f46-4a51-b6d0-bf43ec5bd5f2"
   },
   "source": [
    "### Install and import the ibm-watson-machine-learning package\n",
    "\n",
    "Note: ibm-watson-machine-learning documentation can be found [here](http://ibm-wml-api-pyclient.mybluemix.net/)."
   ]
  },
  {
   "cell_type": "code",
   "execution_count": null,
   "metadata": {
    "id": "5f240999-2d2e-49c7-9690-fe39f01d03cc"
   },
   "outputs": [],
   "source": [
    "!pip install -U ibm-watson-machine-learning"
   ]
  },
  {
   "cell_type": "code",
   "execution_count": null,
   "metadata": {
    "id": "5edf1f48-a79f-46c8-898d-9bf4947f7a38"
   },
   "outputs": [],
   "source": [
    "# create client to access our WML service\n",
    "from ibm_watson_machine_learning import APIClient\n",
    "\n",
    "client = APIClient(wml_credentials)\n",
    "print(client.version)"
   ]
  },
  {
   "cell_type": "markdown",
   "metadata": {
    "id": "3b58cf11-fbde-42f6-9bc7-719c9060c37c"
   },
   "source": [
    "### Working with spaces\n",
    "\n",
    "First, create a space that will be used for your work. If you do not have space already created, you can use [Deployment Spaces dashboard](https://dataplatform.cloud.ibm.com/ml-runtime/spaces?context=cpdaas) to create one.\n",
    "\n",
    "* Click New Deployment Space\n",
    "* Create an empty space\n",
    "* Select Cloud Object Storage\n",
    "* Select Watson Machine Learning instance and press Create\n",
    "* Copy space_id and paste it below\n",
    "\n",
    "**Tip**: You can also use WML SDK to prepare the space for your work. More information can be found [here](https://github.com/IBM/watson-machine-learning-samples/blob/master/cloud/notebooks/python_sdk/instance-management/Space%20management.ipynb).\n",
    "\n",
    "**Action**: Assign space ID below"
   ]
  },
  {
   "cell_type": "code",
   "execution_count": null,
   "metadata": {
    "id": "36289e56-3f4d-47ac-849a-92e3e9544e16"
   },
   "outputs": [],
   "source": [
    "space_id = 'PASTE YOUR SPACE ID HERE'"
   ]
  },
  {
   "cell_type": "markdown",
   "metadata": {
    "id": "7fec4f2b-7652-42f4-9ab2-a9f849a23087"
   },
   "source": [
    "You can use list method to print all existing spaces."
   ]
  },
  {
   "cell_type": "code",
   "execution_count": null,
   "metadata": {
    "id": "e39584af-bc07-4d65-adc0-d75fcaaa0e7e"
   },
   "outputs": [],
   "source": [
    "client.spaces.list(limit=10)"
   ]
  },
  {
   "cell_type": "markdown",
   "metadata": {
    "id": "e216eb1a-80be-4e58-9691-3d7e7121fa7a"
   },
   "source": [
    "To be able to interact with all resources available in Watson Machine Learning, you need to set the **space** which you will be using."
   ]
  },
  {
   "cell_type": "code",
   "execution_count": null,
   "metadata": {
    "id": "665eb674-b8fa-41bf-98a5-7f26500e287f"
   },
   "outputs": [],
   "source": [
    "client.set.default_space(space_id)"
   ]
  },
  {
   "cell_type": "markdown",
   "metadata": {
    "id": "541be232-e07d-44d1-a59b-8ca079e78596"
   },
   "source": [
    "### Upload model\n",
    "\n",
    "In this section you will learn how to upload the model to the Cloud."
   ]
  },
  {
   "cell_type": "code",
   "execution_count": null,
   "metadata": {
    "id": "e37b456b-1f9e-4827-af17-9ee53a825ae5"
   },
   "outputs": [],
   "source": [
    "sofware_spec_uid = client.software_specifications.get_id_by_name(\"default_py3.7\")\n",
    "metadata = {\n",
    "            client.repository.ModelMetaNames.NAME: 'Gradient Boosting model to predict customer churn',\n",
    "            client.repository.ModelMetaNames.TYPE: 'scikit-learn_0.23',\n",
    "            client.repository.ModelMetaNames.SOFTWARE_SPEC_UID: sofware_spec_uid\n",
    "}\n",
    "\n",
    "published_model = client.repository.store_model(\n",
    "    model=gbc,\n",
    "    meta_props=metadata)"
   ]
  },
  {
   "cell_type": "markdown",
   "metadata": {
    "id": "a6c6e287-c9ef-48b8-8b88-d39be3b47775"
   },
   "source": [
    "Use the following command to get details about the model"
   ]
  },
  {
   "cell_type": "code",
   "execution_count": null,
   "metadata": {
    "id": "39ad458c-d338-4757-b3cd-96b088493963"
   },
   "outputs": [],
   "source": [
    "# Get model details\n",
    "import json\n",
    "\n",
    "published_model_uid = client.repository.get_model_uid(published_model)\n",
    "model_details = client.repository.get_details(published_model_uid)\n",
    "print(json.dumps(model_details, indent=2))"
   ]
  },
  {
   "cell_type": "markdown",
   "metadata": {
    "id": "df75f8ac-47cc-480e-9297-9cd62a6cf49e"
   },
   "source": [
    "Note: You can see that model is successfully stored in Watson Machine Learning Service."
   ]
  },
  {
   "cell_type": "code",
   "execution_count": null,
   "metadata": {
    "id": "bfa4fa7d-340a-4b2b-9e35-b7c94cf448f2"
   },
   "outputs": [],
   "source": [
    "client.repository.list_models()"
   ]
  },
  {
   "cell_type": "markdown",
   "metadata": {
    "id": "ed0e1757-0712-48df-b22c-fab9058fbe33"
   },
   "source": [
    "Use the following command to clean up/delete any previously created models"
   ]
  },
  {
   "cell_type": "code",
   "execution_count": null,
   "metadata": {
    "id": "10574616-0d70-4e0b-b0a1-2e94649edda4"
   },
   "outputs": [],
   "source": [
    "# client.repository.delete('GUID of stored model')"
   ]
  },
  {
   "cell_type": "markdown",
   "metadata": {
    "id": "47c786a6-1401-4d6b-b950-66c6828fa8e4"
   },
   "source": [
    "### Create online deployment\n",
    "\n",
    "You can use commands bellow to deploy the stored model as a web service."
   ]
  },
  {
   "cell_type": "code",
   "execution_count": null,
   "metadata": {
    "id": "d42e19c1-c193-4219-b90f-3bba425f007e"
   },
   "outputs": [],
   "source": [
    "# Create online deployment\n",
    "metadata = {\n",
    "    client.deployments.ConfigurationMetaNames.NAME: \"Deployment of customer churn model\",\n",
    "    client.deployments.ConfigurationMetaNames.ONLINE: {}\n",
    "}\n",
    "\n",
    "created_deployment = client.deployments.create(published_model_uid, meta_props=metadata)"
   ]
  },
  {
   "cell_type": "markdown",
   "metadata": {
    "id": "26bcca6a-35fb-463a-b4ff-67eae43eb3e3"
   },
   "source": [
    "Use the following commands to retrieve the deployment UID, show all deployments, and to delete old deployments."
   ]
  },
  {
   "cell_type": "code",
   "execution_count": null,
   "metadata": {
    "id": "52a33297-882d-484d-9317-26183577ecc7"
   },
   "outputs": [],
   "source": [
    "# Get deployment UID and show details on the deployment\n",
    "deployment_uid = client.deployments.get_uid(created_deployment)\n",
    "client.deployments.get_details(deployment_uid)"
   ]
  },
  {
   "cell_type": "code",
   "execution_count": null,
   "metadata": {
    "id": "6be848e5-9757-4f9d-93f8-f89dac723977"
   },
   "outputs": [],
   "source": [
    "# list all deployments\n",
    "client.deployments.list()"
   ]
  },
  {
   "cell_type": "code",
   "execution_count": null,
   "metadata": {
    "id": "0b642ac6-ef8b-40fe-9237-23abcd226f97"
   },
   "outputs": [],
   "source": [
    "# delete old deployments\n",
    "# client.deployments.delete('GUID of deployed model')"
   ]
  },
  {
   "cell_type": "markdown",
   "metadata": {
    "id": "295f0e44-49c6-40a9-92ba-ec8e5f5f548d"
   },
   "source": [
    "### Scoring\n",
    "\n",
    "You can send new scoring records to the web-service deployment using the WML **score** method."
   ]
  },
  {
   "cell_type": "code",
   "execution_count": null,
   "metadata": {
    "id": "dc8e34f7-992c-436e-98b2-3bcb15c00a7b"
   },
   "outputs": [],
   "source": [
    "# get scoring end point\n",
    "scoring_endpoint = client.deployments.get_scoring_href(created_deployment)\n",
    "print(scoring_endpoint)"
   ]
  },
  {
   "cell_type": "code",
   "execution_count": null,
   "metadata": {
    "id": "dc3124ce-673f-4807-966d-b766c45002ae"
   },
   "outputs": [],
   "source": [
    "# use our WML client to score our model\n",
    "# add some test data\n",
    "scoring_payload = {\"input_data\": [\n",
    "    {'fields': ['state', 'account length', 'area code', 'international plan', 'voice mail plan', 'number vmail messages', 'total day minutes', \n",
    "                'total day calls', 'total day charge', 'total eve minutes', 'total eve calls', 'total eve charge', 'total night minutes', \n",
    "                'total night calls', 'total night charge', 'total intl minutes', 'total intl calls', 'total intl charge', 'customer service calls' ], \n",
    "     'values': [[ '2','162','415','0','0','0','70.7','108','12.02','157.5','87','13.39','154.8','82','6.97','9.1','3','2.46','4' ]]\n",
    "    }]}"
   ]
  },
  {
   "cell_type": "code",
   "execution_count": null,
   "metadata": {
    "id": "13d54607-71c4-4b3e-909b-40e1438a6178"
   },
   "outputs": [],
   "source": [
    "# score the model\n",
    "predictions = client.deployments.score(deployment_uid, scoring_payload)\n",
    "print('prediction',json.dumps(predictions, indent=2))"
   ]
  },
  {
   "cell_type": "markdown",
   "metadata": {
    "id": "288f46e5-0ac3-4e4b-bf6f-4c9444c37a7f"
   },
   "source": [
    "## Acknowledgement"
   ]
  },
  {
   "cell_type": "markdown",
   "metadata": {
    "id": "36847188-9de6-45da-87cf-c9d63b520228"
   },
   "source": [
    "The approach and code fragments have been adopted from the nootebook on Kaggle by Sandip Datta (https://www.kaggle.com/sandipdatta). \n",
    "The full original notebook can be viewed here: https://www.kaggle.com/sandipdatta/customer-churn-analysis#"
   ]
  }
 ],
 "metadata": {
  "kernelspec": {
   "display_name": "Python 3.9",
   "language": "python",
   "name": "python3"
  },
  "language_info": {
   "codemirror_mode": {
    "name": "ipython",
    "version": 3
   },
   "file_extension": ".py",
   "mimetype": "text/x-python",
   "name": "python",
   "nbconvert_exporter": "python",
   "pygments_lexer": "ipython3",
   "version": "3.9.7"
  }
 },
 "nbformat": 4,
 "nbformat_minor": 4
}
